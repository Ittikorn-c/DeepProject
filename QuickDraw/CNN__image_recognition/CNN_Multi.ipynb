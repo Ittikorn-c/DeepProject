{
 "cells": [
  {
   "cell_type": "code",
   "execution_count": 1,
   "metadata": {},
   "outputs": [
    {
     "name": "stderr",
     "output_type": "stream",
     "text": [
      "Using TensorFlow backend.\n"
     ]
    }
   ],
   "source": [
    "import numpy as np\n",
    "from sklearn.model_selection import train_test_split\n",
    "from sklearn.utils import shuffle\n",
    "from keras.layers import Dense,Flatten, Conv2D, merge\n",
    "from keras.layers import MaxPooling2D, Dropout, Input\n",
    "from keras.utils import np_utils, print_summary, plot_model\n",
    "import tensorflow as tf\n",
    "from keras.models import Sequential, Model\n",
    "from keras.callbacks import ModelCheckpoint\n",
    "import pickle\n",
    "from keras.callbacks import TensorBoard\n",
    "import keras\n",
    "from keras.layers.core import Reshape\n",
    "from keras.layers.merge import concatenate"
   ]
  },
  {
   "cell_type": "code",
   "execution_count": 2,
   "metadata": {},
   "outputs": [],
   "source": [
    "def loadFromPickle(path):\n",
    "    with open(path + \"features\", \"rb\") as f:\n",
    "        features = np.array(pickle.load(f))\n",
    "    with open(path + \"labels\", \"rb\") as f:\n",
    "        labels = np.array(pickle.load(f))\n",
    "\n",
    "    return features, labels"
   ]
  },
  {
   "cell_type": "code",
   "execution_count": 3,
   "metadata": {},
   "outputs": [],
   "source": [
    "def augmentData(features, labels):\n",
    "    features = np.append(features, features[:, :, ::-1], axis=0)\n",
    "    labels = np.append(labels, -labels, axis=0)\n",
    "    return features, labels"
   ]
  },
  {
   "cell_type": "code",
   "execution_count": 4,
   "metadata": {},
   "outputs": [],
   "source": [
    "def prepress_labels(labels):\n",
    "    labels = np_utils.to_categorical(labels)\n",
    "    return labels"
   ]
  },
  {
   "cell_type": "code",
   "execution_count": 5,
   "metadata": {},
   "outputs": [],
   "source": [
    "import matplotlib.pyplot as plt\n",
    "def plot_loss_accuracy(history):\n",
    "    fig = plt.figure(figsize=(12, 6))\n",
    "    ax = fig.add_subplot(1, 2, 1)\n",
    "    ax.plot(history.history[\"loss\"],'r-x', label=\"Train Loss\")\n",
    "    ax.plot(history.history[\"val_loss\"],'b-x', label=\"Validation Loss\")\n",
    "    ax.legend()\n",
    "    ax.set_title('cross_entropy loss')\n",
    "    ax.grid(True)\n",
    "\n",
    "\n",
    "    ax = fig.add_subplot(1, 2, 2)\n",
    "    ax.plot(history.history[\"acc\"],'r-x', label=\"Train Accuracy\")\n",
    "    ax.plot(history.history[\"val_acc\"],'b-x', label=\"Validation Accuracy\")\n",
    "    ax.legend()\n",
    "    ax.set_title('accuracy')\n",
    "    ax.grid(True)"
   ]
  },
  {
   "cell_type": "code",
   "execution_count": 6,
   "metadata": {},
   "outputs": [],
   "source": [
    "ip = Input(shape=(28,28,1))"
   ]
  },
  {
   "cell_type": "code",
   "execution_count": 7,
   "metadata": {},
   "outputs": [],
   "source": [
    "c5 = Conv2D(64, (5, 5), activation='relu')(ip)\n",
    "c5 = Flatten()(c5)"
   ]
  },
  {
   "cell_type": "code",
   "execution_count": 8,
   "metadata": {},
   "outputs": [],
   "source": [
    "c3 = Conv2D(64, (3, 3), activation='relu')(ip)\n",
    "c3 = Flatten()(c3)"
   ]
  },
  {
   "cell_type": "code",
   "execution_count": 9,
   "metadata": {},
   "outputs": [],
   "source": [
    "c1 = Conv2D(64, (1, 1), activation='relu')(ip)\n",
    "c1 = Flatten()(c1)"
   ]
  },
  {
   "cell_type": "code",
   "execution_count": 10,
   "metadata": {},
   "outputs": [],
   "source": [
    "concatenated = concatenate([c1, c3, c5])\n",
    "out = Dense(4096, activation='relu')(concatenated)\n",
    "d1 = Dense(2048, activation='relu')(out)\n",
    "d2 = Dropout(0.6)(d1)\n",
    "d3 = Dense(1024, activation='relu')(d2)\n",
    "d4 = Dropout(0.6)(d3)\n",
    "d5 = Dense(512, activation='relu')(d4)\n",
    "d6 = Dropout(0.6)(d5)\n",
    "d7 = Dense(128, activation='relu')(d6)\n",
    "d8 = Dropout(0.6)(d7)\n",
    "d9 = Dense(40, activation='softmax')(d8)\n",
    "model = Model(inputs=ip, outputs=d9)"
   ]
  },
  {
   "cell_type": "code",
   "execution_count": 11,
   "metadata": {},
   "outputs": [],
   "source": [
    "plot_model(model,to_file='demo.png',show_shapes=True)"
   ]
  },
  {
   "cell_type": "code",
   "execution_count": 12,
   "metadata": {
    "scrolled": true
   },
   "outputs": [
    {
     "name": "stdout",
     "output_type": "stream",
     "text": [
      "__________________________________________________________________________________________________\n",
      "Layer (type)                    Output Shape         Param #     Connected to                     \n",
      "==================================================================================================\n",
      "input_1 (InputLayer)            (None, 28, 28, 1)    0                                            \n",
      "__________________________________________________________________________________________________\n",
      "conv2d_3 (Conv2D)               (None, 28, 28, 64)   128         input_1[0][0]                    \n",
      "__________________________________________________________________________________________________\n",
      "conv2d_2 (Conv2D)               (None, 26, 26, 64)   640         input_1[0][0]                    \n",
      "__________________________________________________________________________________________________\n",
      "conv2d_1 (Conv2D)               (None, 24, 24, 64)   1664        input_1[0][0]                    \n",
      "__________________________________________________________________________________________________\n",
      "max_pooling2d_3 (MaxPooling2D)  (None, 14, 14, 64)   0           conv2d_3[0][0]                   \n",
      "__________________________________________________________________________________________________\n",
      "max_pooling2d_2 (MaxPooling2D)  (None, 13, 13, 64)   0           conv2d_2[0][0]                   \n",
      "__________________________________________________________________________________________________\n",
      "max_pooling2d_1 (MaxPooling2D)  (None, 12, 12, 64)   0           conv2d_1[0][0]                   \n",
      "__________________________________________________________________________________________________\n",
      "flatten_3 (Flatten)             (None, 12544)        0           max_pooling2d_3[0][0]            \n",
      "__________________________________________________________________________________________________\n",
      "flatten_2 (Flatten)             (None, 10816)        0           max_pooling2d_2[0][0]            \n",
      "__________________________________________________________________________________________________\n",
      "flatten_1 (Flatten)             (None, 9216)         0           max_pooling2d_1[0][0]            \n",
      "__________________________________________________________________________________________________\n",
      "concatenate_1 (Concatenate)     (None, 32576)        0           flatten_3[0][0]                  \n",
      "                                                                 flatten_2[0][0]                  \n",
      "                                                                 flatten_1[0][0]                  \n",
      "__________________________________________________________________________________________________\n",
      "dense_1 (Dense)                 (None, 1024)         33358848    concatenate_1[0][0]              \n",
      "__________________________________________________________________________________________________\n",
      "dense_2 (Dense)                 (None, 512)          524800      dense_1[0][0]                    \n",
      "__________________________________________________________________________________________________\n",
      "dropout_1 (Dropout)             (None, 512)          0           dense_2[0][0]                    \n",
      "__________________________________________________________________________________________________\n",
      "dense_3 (Dense)                 (None, 128)          65664       dropout_1[0][0]                  \n",
      "__________________________________________________________________________________________________\n",
      "dropout_2 (Dropout)             (None, 128)          0           dense_3[0][0]                    \n",
      "__________________________________________________________________________________________________\n",
      "dense_4 (Dense)                 (None, 10)           1290        dropout_2[0][0]                  \n",
      "==================================================================================================\n",
      "Total params: 33,953,034\n",
      "Trainable params: 33,953,034\n",
      "Non-trainable params: 0\n",
      "__________________________________________________________________________________________________\n"
     ]
    }
   ],
   "source": [
    "model.summary()"
   ]
  },
  {
   "cell_type": "code",
   "execution_count": 13,
   "metadata": {},
   "outputs": [],
   "source": [
    "model.compile(loss='categorical_crossentropy', optimizer='adam', metrics=['accuracy'])\n",
    "filepath = \"cnn_multi.h5\"\n",
    "checkpoint = ModelCheckpoint(filepath, monitor='val_acc', verbose=1, save_best_only=True, mode='max')\n",
    "callbacks_list = [checkpoint]"
   ]
  },
  {
   "cell_type": "code",
   "execution_count": 14,
   "metadata": {},
   "outputs": [],
   "source": [
    "path = 'I:/Deep Learning/DeepProject/'\n",
    "features, labels = loadFromPickle(path + 'DataSet/CNN_DataSet/')\n",
    "features, labels = shuffle(features, labels)\n",
    "labels=prepress_labels(labels)\n",
    "train_x, test_x, train_y, test_y = train_test_split(features, labels, random_state=0, test_size=0.1)\n",
    "train_x = train_x.reshape(train_x.shape[0], 28, 28, 1)\n",
    "test_x = test_x.reshape(test_x.shape[0], 28, 28, 1)"
   ]
  },
  {
   "cell_type": "code",
   "execution_count": 15,
   "metadata": {},
   "outputs": [
    {
     "name": "stdout",
     "output_type": "stream",
     "text": [
      "Train on 450000 samples, validate on 50000 samples\n",
      "Epoch 1/10\n",
      "450000/450000 [==============================] - 357s 794us/step - loss: 0.4660 - acc: 0.8655 - val_loss: 0.3273 - val_acc: 0.9009\n",
      "Epoch 2/10\n",
      "450000/450000 [==============================] - 359s 798us/step - loss: 0.3166 - acc: 0.9081 - val_loss: 0.3255 - val_acc: 0.9047\n",
      "Epoch 3/10\n",
      "450000/450000 [==============================] - 359s 799us/step - loss: 0.2578 - acc: 0.9224 - val_loss: 0.3342 - val_acc: 0.9028\n",
      "Epoch 4/10\n",
      "450000/450000 [==============================] - 361s 802us/step - loss: 0.2144 - acc: 0.9344 - val_loss: 0.3552 - val_acc: 0.9004\n",
      "Epoch 5/10\n",
      "450000/450000 [==============================] - 362s 805us/step - loss: 0.1791 - acc: 0.9440 - val_loss: 0.3736 - val_acc: 0.9023\n",
      "Epoch 6/10\n",
      "450000/450000 [==============================] - 363s 806us/step - loss: 0.1542 - acc: 0.9521 - val_loss: 0.4455 - val_acc: 0.8999\n",
      "Epoch 7/10\n",
      "450000/450000 [==============================] - 363s 808us/step - loss: 0.1329 - acc: 0.9588 - val_loss: 0.4665 - val_acc: 0.8983\n",
      "Epoch 8/10\n",
      "450000/450000 [==============================] - 364s 808us/step - loss: 0.1167 - acc: 0.9646 - val_loss: 0.5551 - val_acc: 0.8975\n",
      "Epoch 9/10\n",
      "450000/450000 [==============================] - 364s 808us/step - loss: 0.1032 - acc: 0.9695 - val_loss: 0.5536 - val_acc: 0.8976\n",
      "Epoch 10/10\n",
      "450000/450000 [==============================] - 364s 808us/step - loss: 0.0906 - acc: 0.9735 - val_loss: 0.6236 - val_acc: 0.8960\n"
     ]
    }
   ],
   "source": [
    "history = model.fit(train_x, train_y, \n",
    "                    validation_data=(test_x, test_y), \n",
    "                    epochs=10, \n",
    "                    batch_size=64, \n",
    "                    shuffle=True, \n",
    "                    callbacks=[TensorBoard(log_dir=\"CNN_Multi\")])"
   ]
  },
  {
   "cell_type": "code",
   "execution_count": 16,
   "metadata": {},
   "outputs": [
    {
     "data": {
      "image/png": "[encoded data removed]",
      "text/plain": [
       "<Figure size 864x432 with 2 Axes>"
      ]
     },
     "metadata": {
      "needs_background": "light"
     },
     "output_type": "display_data"
    }
   ],
   "source": [
    "plot_loss_accuracy(history)"
   ]
  },
  {
   "cell_type": "code",
   "execution_count": null,
   "metadata": {},
   "outputs": [],
   "source": []
  }
 ],
 "metadata": {
  "kernelspec": {
   "display_name": "Python 3",
   "language": "python",
   "name": "python3"
  },
  "language_info": {
   "codemirror_mode": {
    "name": "ipython",
    "version": 3
   },
   "file_extension": ".py",
   "mimetype": "text/x-python",
   "name": "python",
   "nbconvert_exporter": "python",
   "pygments_lexer": "ipython3",
   "version": "3.6.6"
  }
 },
 "nbformat": 4,
 "nbformat_minor": 2
}
