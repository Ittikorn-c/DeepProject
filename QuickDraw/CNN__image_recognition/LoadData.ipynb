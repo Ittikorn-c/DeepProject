{
 "cells": [
  {
   "cell_type": "code",
   "execution_count": 9,
   "metadata": {},
   "outputs": [],
   "source": [
    "import numpy as np\n",
    "import os\n",
    "import pickle"
   ]
  },
  {
   "cell_type": "code",
   "execution_count": 13,
   "metadata": {},
   "outputs": [],
   "source": [
    "def load_data(path):\n",
    "    x = []\n",
    "    x_load = []\n",
    "    y = []\n",
    "    y_load = []\n",
    "    count = 0\n",
    "    files = os.listdir(path)\n",
    "    i=0\n",
    "    while i<40:\n",
    "        print(files[i], end=' ')\n",
    "        file = path + files[i]\n",
    "        x = np.load(file)\n",
    "        x = x.astype('float16') / 255\n",
    "        x = x[0:50000, :]\n",
    "        x_load.append(x)\n",
    "        y = [count for _ in range(50000)]\n",
    "        count += 1\n",
    "        y = np.array(y).astype('int16')\n",
    "        y = y.reshape(y.shape[0], 1)\n",
    "        y_load.append(y)\n",
    "        i+=1\n",
    "        \n",
    "#     for file in files:\n",
    "#         file = path + file\n",
    "#         x = np.load(file)\n",
    "#         x = x.astype('float16') / 255\n",
    "#         x = x[0:50000, :]\n",
    "#         x_load.append(x)\n",
    "#         y = [count for _ in range(50000)]\n",
    "#         count += 1\n",
    "#         y = np.array(y).astype('int16')\n",
    "#         y = y.reshape(y.shape[0], 1)\n",
    "#         y_load.append(y)\n",
    "    return x_load, y_load"
   ]
  },
  {
   "cell_type": "code",
   "execution_count": 11,
   "metadata": {},
   "outputs": [],
   "source": [
    "def save(var,name):\n",
    "    with open(name, \"wb\") as f:\n",
    "        pickle.dump(var, f, protocol=4)"
   ]
  },
  {
   "cell_type": "code",
   "execution_count": 14,
   "metadata": {},
   "outputs": [
    {
     "name": "stdout",
     "output_type": "stream",
     "text": [
      "aircraft carrier.npy airplane.npy alarm clock.npy ambulance.npy angel.npy animal migration.npy ant.npy anvil.npy apple.npy arm.npy asparagus.npy axe.npy backpack.npy banana.npy bandage.npy barn.npy baseball bat.npy baseball.npy basket.npy basketball.npy bat.npy bathtub.npy beach.npy bear.npy beard.npy bed.npy bee.npy belt.npy bench.npy bicycle.npy binoculars.npy bird.npy birthday cake.npy blackberry.npy blueberry.npy book.npy boomerang.npy bottlecap.npy bowtie.npy bracelet.npy "
     ]
    }
   ],
   "source": [
    "if __name__ == '__main__':\n",
    "    path = 'H:/'\n",
    "    features, labels = load_data(path + 'DataSet/')\n",
    "    features = np.array(features).astype('float16')\n",
    "    labels = np.array(labels).astype('int16')\n",
    "    features=features.reshape(features.shape[0]*features.shape[1],features.shape[2])\n",
    "    labels=labels.reshape(labels.shape[0]*labels.shape[1],labels.shape[2])\n",
    "    \n",
    "    save(features, path + \"CNN_DataSet/features\")\n",
    "    save(labels, path + \"CNN_DataSet/labels\")"
   ]
  },
  {
   "cell_type": "code",
   "execution_count": null,
   "metadata": {},
   "outputs": [],
   "source": []
  }
 ],
 "metadata": {
  "kernelspec": {
   "display_name": "Python 3",
   "language": "python",
   "name": "python3"
  },
  "language_info": {
   "codemirror_mode": {
    "name": "ipython",
    "version": 3
   },
   "file_extension": ".py",
   "mimetype": "text/x-python",
   "name": "python",
   "nbconvert_exporter": "python",
   "pygments_lexer": "ipython3",
   "version": "3.6.6"
  }
 },
 "nbformat": 4,
 "nbformat_minor": 2
}
