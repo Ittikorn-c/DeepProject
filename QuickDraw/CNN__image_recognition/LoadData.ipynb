{
 "cells": [
  {
   "cell_type": "code",
   "execution_count": 12,
   "metadata": {},
   "outputs": [],
   "source": [
    "import numpy as np\n",
    "import os\n",
    "import pickle"
   ]
  },
  {
   "cell_type": "code",
   "execution_count": 13,
   "metadata": {},
   "outputs": [],
   "source": [
    "def load_data(path):\n",
    "    x = []\n",
    "    x_load = []\n",
    "    y = []\n",
    "    y_load = []\n",
    "    count = 0\n",
    "    files = os.listdir(path)\n",
    "    for file in files:\n",
    "        file = path + file\n",
    "        x = np.load(file)\n",
    "        x = x.astype('float16') / 255\n",
    "        x = x[0:10000, :]\n",
    "        x_load.append(x)\n",
    "        y = [count for _ in range(10000)]\n",
    "        count += 1\n",
    "        y = np.array(y).astype('int16')\n",
    "        y = y.reshape(y.shape[0], 1)\n",
    "        y_load.append(y)\n",
    "    return x_load, y_load"
   ]
  },
  {
   "cell_type": "code",
   "execution_count": 14,
   "metadata": {},
   "outputs": [],
   "source": [
    "def save(var,name):\n",
    "    with open(name, \"wb\") as f:\n",
    "        pickle.dump(var, f, protocol=4)"
   ]
  },
  {
   "cell_type": "code",
   "execution_count": 16,
   "metadata": {},
   "outputs": [],
   "source": [
    "if __name__ == '__main__':\n",
    "    path = 'E:/Deep Learning/DeepProject/'\n",
    "    features, labels = load_data(path + 'DataSet/sketches/')\n",
    "    features = np.array(features).astype('float16')\n",
    "    labels = np.array(labels).astype('int16')\n",
    "    features=features.reshape(features.shape[0]*features.shape[1],features.shape[2])\n",
    "    labels=labels.reshape(labels.shape[0]*labels.shape[1],labels.shape[2])\n",
    "    \n",
    "    save(features, path + \"DataSet/CNN_DataSet/features\")\n",
    "    save(labels, path + \"DataSet/CNN_DataSet/labels\")"
   ]
  },
  {
   "cell_type": "code",
   "execution_count": null,
   "metadata": {},
   "outputs": [],
   "source": []
  }
 ],
 "metadata": {
  "kernelspec": {
   "display_name": "Python 3",
   "language": "python",
   "name": "python3"
  },
  "language_info": {
   "codemirror_mode": {
    "name": "ipython",
    "version": 3
   },
   "file_extension": ".py",
   "mimetype": "text/x-python",
   "name": "python",
   "nbconvert_exporter": "python",
   "pygments_lexer": "ipython3",
   "version": "3.6.6"
  }
 },
 "nbformat": 4,
 "nbformat_minor": 2
}
